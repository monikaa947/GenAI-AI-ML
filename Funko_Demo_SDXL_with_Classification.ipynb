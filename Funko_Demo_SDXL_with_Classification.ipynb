{
  "cells": [
    {
      "cell_type": "markdown",
      "metadata": {
        "id": "view-in-github",
        "colab_type": "text"
      },
      "source": [
        "<a href=\"https://colab.research.google.com/github/monikaa947/GenAI-AI-ML/blob/main/Funko_Demo_SDXL_with_Classification.ipynb\" target=\"_parent\"><img src=\"https://colab.research.google.com/assets/colab-badge.svg\" alt=\"Open In Colab\"/></a>"
      ]
    },
    {
      "cell_type": "code",
      "execution_count": null,
      "metadata": {
        "id": "ylSU3jfizWyV"
      },
      "outputs": [],
      "source": [
        "from google.colab import drive\n",
        "drive.mount('/content/drive')"
      ]
    },
    {
      "cell_type": "code",
      "execution_count": null,
      "metadata": {
        "id": "QjTgDoLVzYTJ"
      },
      "outputs": [],
      "source": [
        "!nvcc --version"
      ]
    },
    {
      "cell_type": "code",
      "execution_count": null,
      "metadata": {
        "id": "F5AMFEPZzmVQ"
      },
      "outputs": [],
      "source": [
        "%cd /content/drive/MyDrive/Funko Pop/Ch_Funko\n",
        "!pip install -r requirements.txt"
      ]
    },
    {
      "cell_type": "code",
      "execution_count": null,
      "metadata": {
        "id": "MS9schzGsdpM"
      },
      "outputs": [],
      "source": [
        "!pip install diffusers\n",
        "!pip install invisible_watermark transformers accelerate safetensors\n",
        "!pip install torch==2.0.1 torchvision==0.15.2 torchaudio==2.0.2"
      ]
    },
    {
      "cell_type": "code",
      "execution_count": null,
      "metadata": {
        "id": "ZZi6Zwk7qayi"
      },
      "outputs": [],
      "source": [
        "%cd /content/drive/MyDrive/Funko Pop/Ch_Funko\n",
        "!python app.py"
      ]
    }
  ],
  "metadata": {
    "accelerator": "GPU",
    "colab": {
      "provenance": [],
      "include_colab_link": true
    },
    "kernelspec": {
      "display_name": "Python 3",
      "name": "python3"
    },
    "language_info": {
      "name": "python"
    }
  },
  "nbformat": 4,
  "nbformat_minor": 0
}